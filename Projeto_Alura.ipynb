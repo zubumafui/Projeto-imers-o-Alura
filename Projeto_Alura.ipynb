{
  "nbformat": 4,
  "nbformat_minor": 0,
  "metadata": {
    "colab": {
      "provenance": [],
      "authorship_tag": "ABX9TyNM8jeym9Mp3Y2mxo03UoT6",
      "include_colab_link": true
    },
    "kernelspec": {
      "name": "python3",
      "display_name": "Python 3"
    },
    "language_info": {
      "name": "python"
    }
  },
  "cells": [
    {
      "cell_type": "markdown",
      "metadata": {
        "id": "view-in-github",
        "colab_type": "text"
      },
      "source": [
        "<a href=\"https://colab.research.google.com/github/zubumafui/Projeto-imers-o-Alura/blob/main/Projeto_Alura.ipynb\" target=\"_parent\"><img src=\"https://colab.research.google.com/assets/colab-badge.svg\" alt=\"Open In Colab\"/></a>"
      ]
    },
    {
      "cell_type": "code",
      "execution_count": 10,
      "metadata": {
        "colab": {
          "base_uri": "https://localhost:8080/",
          "height": 106
        },
        "id": "ZxDEiKA1ffek",
        "outputId": "29199600-c10f-42c6-97aa-79eab3780b66"
      },
      "outputs": [
        {
          "output_type": "error",
          "ename": "SyntaxError",
          "evalue": "'(' was never closed (<ipython-input-10-cd3d6be166ee>, line 11)",
          "traceback": [
            "\u001b[0;36m  File \u001b[0;32m\"<ipython-input-10-cd3d6be166ee>\"\u001b[0;36m, line \u001b[0;32m11\u001b[0m\n\u001b[0;31m    api_key = (api_key\u001b[0m\n\u001b[0m              ^\u001b[0m\n\u001b[0;31mSyntaxError\u001b[0m\u001b[0;31m:\u001b[0m '(' was never closed\n"
          ]
        }
      ],
      "source": [
        "# Instale as bibliotecas necessárias\n",
        "!pip install -U googlemaps\n",
        "\n",
        "# Importe as bibliotecas\n",
        "import googlemaps\n",
        "from datetime import datetime\n",
        "\n",
        "# Insira sua chave de API do Google Maps\n",
        "from google.colab import userdata\n",
        "api_key = userdata.get('SECRET_KEY')\n",
        "api_key = (api_key\n",
        "# Configure o cliente da API do Google Maps\n",
        "gmaps = googlemaps.Client(key=api_key)\n",
        "\n",
        "# Função para obter informações sobre áreas de enchente\n",
        "def get_flood_info(location):\n",
        "    # Use a API do Google Maps para obter informações sobre a área\n",
        "    geocode_result = gmaps.geocode(location)\n",
        "\n",
        "    # Verifique se há resultados de geocodificação\n",
        "    if geocode_result:\n",
        "        # Obtenha as coordenadas da localização\n",
        "        lat = geocode_result[0]['geometry']['location']['lat']\n",
        "        lng = geocode_result[0]['geometry']['location']['lng']\n",
        "\n",
        "        # Use a API do Google Maps para verificar se há risco de enchente\n",
        "        flood_result = gmaps.places_nearby(location=(lat, lng), radius=5000, keyword='flood')\n",
        "\n",
        "        # Verifique se há resultados de risco de enchente\n",
        "        if flood_result['results']:\n",
        "            return \"Há risco de enchente na área.\"\n",
        "        else:\n",
        "            return \"Não há risco de enchente na área.\"\n",
        "    else:\n",
        "        return \"Localização não encontrada.\"\n",
        "\n",
        "# Função para interagir com o usuário\n",
        "def chatbot():\n",
        "    print(\"Olá! Eu sou o seu chatbot de informações sobre enchentes no Rio Grande do Sul. Como posso ajudar?\")\n",
        "    while True:\n",
        "        user_input = input(\"Digite o nome de uma cidade ou localidade: \")\n",
        "        if user_input.lower() == 'sair':\n",
        "            print(\"Até mais!\")\n",
        "            break\n",
        "        else:\n",
        "            response = get_flood_info(user_input)\n",
        "            print(response)\n",
        "\n",
        "# Inicie o chatbot\n",
        "chatbot()\n"
      ]
    }
  ]
}